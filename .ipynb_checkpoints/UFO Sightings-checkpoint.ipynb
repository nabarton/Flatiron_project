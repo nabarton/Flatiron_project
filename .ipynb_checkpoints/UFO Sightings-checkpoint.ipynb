{
 "cells": [
  {
   "cell_type": "code",
   "execution_count": 75,
   "metadata": {},
   "outputs": [
    {
     "data": {
      "application/javascript": [
       "IPython.OutputArea.prototype._should_scroll = function(lines) {\n",
       "    return false;\n",
       "}\n"
      ],
      "text/plain": [
       "<IPython.core.display.Javascript object>"
      ]
     },
     "metadata": {},
     "output_type": "display_data"
    }
   ],
   "source": [
    "# Increase the cell size to avoid scrolling with graphs. Use javascript. \n",
    "\n",
    "%%javascript\n",
    "IPython.OutputArea.prototype._should_scroll = function(lines) {\n",
    "    return false;\n",
    "}"
   ]
  },
  {
   "cell_type": "markdown",
   "metadata": {},
   "source": [
    "# UFO Sightings"
   ]
  },
  {
   "cell_type": "markdown",
   "metadata": {},
   "source": [
    "The data set has been taken from kaggle datasets which can be found in the following location:\n",
    "\n",
    "\"https://www.kaggle.com/hakeemtfrank/ufo-sightings-data-exploration\"\n",
    "\n",
    "The dataset contained severl columns and over 80,000 rows. Due to the numerous errors in the dataset, it was reduced by half to work on the following exercise. \n",
    "\n",
    "The following presents a few simple analyses of the data comprising: \n",
    "- the tred of UFO sightings over time;\n",
    "- the geographical distribution of UFO sightings; and\n",
    "- the common shapes observed"
   ]
  },
  {
   "cell_type": "markdown",
   "metadata": {},
   "source": [
    "## Import UFO data set"
   ]
  },
  {
   "cell_type": "code",
   "execution_count": 76,
   "metadata": {},
   "outputs": [],
   "source": [
    "# import packages\n",
    "\n",
    "import pandas as pd\n",
    "import matplotlib.pyplot as plt\n",
    "import re\n"
   ]
  },
  {
   "cell_type": "code",
   "execution_count": 77,
   "metadata": {
    "scrolled": true
   },
   "outputs": [],
   "source": [
    "df = pd.read_csv('complete_2.csv')"
   ]
  },
  {
   "cell_type": "code",
   "execution_count": 78,
   "metadata": {},
   "outputs": [
    {
     "data": {
      "text/plain": [
       "pandas.core.frame.DataFrame"
      ]
     },
     "execution_count": 78,
     "metadata": {},
     "output_type": "execute_result"
    }
   ],
   "source": [
    "# Check data frame typ\n",
    "type(df)"
   ]
  },
  {
   "cell_type": "code",
   "execution_count": 79,
   "metadata": {
    "scrolled": false
   },
   "outputs": [
    {
     "data": {
      "text/html": [
       "<div>\n",
       "<style scoped>\n",
       "    .dataframe tbody tr th:only-of-type {\n",
       "        vertical-align: middle;\n",
       "    }\n",
       "\n",
       "    .dataframe tbody tr th {\n",
       "        vertical-align: top;\n",
       "    }\n",
       "\n",
       "    .dataframe thead th {\n",
       "        text-align: right;\n",
       "    }\n",
       "</style>\n",
       "<table border=\"1\" class=\"dataframe\">\n",
       "  <thead>\n",
       "    <tr style=\"text-align: right;\">\n",
       "      <th></th>\n",
       "      <th>day</th>\n",
       "      <th>month</th>\n",
       "      <th>year</th>\n",
       "      <th>date</th>\n",
       "      <th>time</th>\n",
       "      <th>city</th>\n",
       "      <th>state</th>\n",
       "      <th>country</th>\n",
       "      <th>shape</th>\n",
       "      <th>duration (seconds)</th>\n",
       "      <th>latitude</th>\n",
       "      <th>longitude</th>\n",
       "    </tr>\n",
       "  </thead>\n",
       "  <tbody>\n",
       "    <tr>\n",
       "      <th>0</th>\n",
       "      <td>10</td>\n",
       "      <td>10</td>\n",
       "      <td>1949</td>\n",
       "      <td>10/10/1949</td>\n",
       "      <td>20:30:00</td>\n",
       "      <td>san marcos</td>\n",
       "      <td>tx</td>\n",
       "      <td>us</td>\n",
       "      <td>cylinder</td>\n",
       "      <td>2700.0</td>\n",
       "      <td>29.883056</td>\n",
       "      <td>-97.941111</td>\n",
       "    </tr>\n",
       "    <tr>\n",
       "      <th>1</th>\n",
       "      <td>10</td>\n",
       "      <td>10</td>\n",
       "      <td>1949</td>\n",
       "      <td>10/10/1949</td>\n",
       "      <td>21:00:00</td>\n",
       "      <td>lackland afb</td>\n",
       "      <td>tx</td>\n",
       "      <td>us</td>\n",
       "      <td>light</td>\n",
       "      <td>7200.0</td>\n",
       "      <td>29.384210</td>\n",
       "      <td>-98.581082</td>\n",
       "    </tr>\n",
       "    <tr>\n",
       "      <th>2</th>\n",
       "      <td>10</td>\n",
       "      <td>10</td>\n",
       "      <td>1955</td>\n",
       "      <td>10/10/1955</td>\n",
       "      <td>17:00:00</td>\n",
       "      <td>chester (uk)</td>\n",
       "      <td>NaN</td>\n",
       "      <td>gb</td>\n",
       "      <td>circle</td>\n",
       "      <td>20.0</td>\n",
       "      <td>53.200000</td>\n",
       "      <td>-2.916667</td>\n",
       "    </tr>\n",
       "    <tr>\n",
       "      <th>3</th>\n",
       "      <td>10</td>\n",
       "      <td>10</td>\n",
       "      <td>1956</td>\n",
       "      <td>10/10/1956</td>\n",
       "      <td>21:00:00</td>\n",
       "      <td>edna</td>\n",
       "      <td>tx</td>\n",
       "      <td>us</td>\n",
       "      <td>circle</td>\n",
       "      <td>20.0</td>\n",
       "      <td>28.978333</td>\n",
       "      <td>-96.645833</td>\n",
       "    </tr>\n",
       "    <tr>\n",
       "      <th>4</th>\n",
       "      <td>10</td>\n",
       "      <td>10</td>\n",
       "      <td>1960</td>\n",
       "      <td>10/10/1960</td>\n",
       "      <td>20:00:00</td>\n",
       "      <td>kaneohe</td>\n",
       "      <td>hi</td>\n",
       "      <td>us</td>\n",
       "      <td>light</td>\n",
       "      <td>900.0</td>\n",
       "      <td>21.418056</td>\n",
       "      <td>-157.803611</td>\n",
       "    </tr>\n",
       "  </tbody>\n",
       "</table>\n",
       "</div>"
      ],
      "text/plain": [
       "   day  month  year        date      time          city state country  \\\n",
       "0   10     10  1949  10/10/1949  20:30:00    san marcos    tx      us   \n",
       "1   10     10  1949  10/10/1949  21:00:00  lackland afb    tx      us   \n",
       "2   10     10  1955  10/10/1955  17:00:00  chester (uk)   NaN      gb   \n",
       "3   10     10  1956  10/10/1956  21:00:00          edna    tx      us   \n",
       "4   10     10  1960  10/10/1960  20:00:00       kaneohe    hi      us   \n",
       "\n",
       "      shape  duration (seconds)   latitude   longitude  \n",
       "0  cylinder              2700.0  29.883056  -97.941111  \n",
       "1     light              7200.0  29.384210  -98.581082  \n",
       "2    circle                20.0  53.200000   -2.916667  \n",
       "3    circle                20.0  28.978333  -96.645833  \n",
       "4     light               900.0  21.418056 -157.803611  "
      ]
     },
     "execution_count": 79,
     "metadata": {},
     "output_type": "execute_result"
    }
   ],
   "source": [
    "df.head()"
   ]
  },
  {
   "cell_type": "code",
   "execution_count": 80,
   "metadata": {
    "scrolled": true
   },
   "outputs": [
    {
     "name": "stdout",
     "output_type": "stream",
     "text": [
      "<class 'pandas.core.frame.DataFrame'>\n",
      "RangeIndex: 35570 entries, 0 to 35569\n",
      "Data columns (total 12 columns):\n",
      " #   Column              Non-Null Count  Dtype  \n",
      "---  ------              --------------  -----  \n",
      " 0   day                 35570 non-null  int64  \n",
      " 1   month               35570 non-null  int64  \n",
      " 2   year                35570 non-null  int64  \n",
      " 3   date                35570 non-null  object \n",
      " 4   time                35570 non-null  object \n",
      " 5   city                35570 non-null  object \n",
      " 6   state               32775 non-null  object \n",
      " 7   country             31794 non-null  object \n",
      " 8   shape               35570 non-null  object \n",
      " 9   duration (seconds)  35570 non-null  float64\n",
      " 10  latitude            35570 non-null  float64\n",
      " 11  longitude           35570 non-null  float64\n",
      "dtypes: float64(3), int64(3), object(6)\n",
      "memory usage: 3.3+ MB\n"
     ]
    }
   ],
   "source": [
    "# Check data info\n",
    "\n",
    "df.info()"
   ]
  },
  {
   "cell_type": "markdown",
   "metadata": {},
   "source": [
    "## Check sightings by year"
   ]
  },
  {
   "cell_type": "code",
   "execution_count": 81,
   "metadata": {},
   "outputs": [
    {
     "data": {
      "text/plain": [
       "False    35570\n",
       "Name: year, dtype: int64"
      ]
     },
     "execution_count": 81,
     "metadata": {},
     "output_type": "execute_result"
    }
   ],
   "source": [
    "# Check for NaN and null\n",
    "\n",
    "df['year'].isna().value_counts()"
   ]
  },
  {
   "cell_type": "code",
   "execution_count": 82,
   "metadata": {
    "scrolled": false
   },
   "outputs": [
    {
     "data": {
      "image/png": "[encoded data removed]",
      "text/plain": [
       "<Figure size 1008x360 with 1 Axes>"
      ]
     },
     "metadata": {
      "needs_background": "light"
     },
     "output_type": "display_data"
    }
   ],
   "source": [
    "# create df for the year\n",
    "\n",
    "year = df['year'].value_counts()\n",
    "\n",
    "# Plot bar graph of the sightings by year and predict next decade\n",
    "\n",
    "fig, ax = plt.subplots(figsize=(14, 5))\n",
    "\n",
    "ax.bar(x = year.index, height = year, color = '#00FF00')\n",
    "ax.set_xlabel('Year');\n",
    "ax.set_ylabel('Count')\n",
    "ax.set_title('Number of UFO Sightings per Year');\n"
   ]
  },
  {
   "cell_type": "markdown",
   "metadata": {},
   "source": [
    "- The graph suggests that UFOs and extraterestrial beings have become more fascinated with our world over the last two decades.  Perhaps this is attributed to their desire to understand the complexities of the 21st century, much like many of us..."
   ]
  },
  {
   "cell_type": "markdown",
   "metadata": {},
   "source": [
    "## UFO sightings by country"
   ]
  },
  {
   "cell_type": "code",
   "execution_count": 83,
   "metadata": {},
   "outputs": [
    {
     "data": {
      "text/plain": [
       "False    31794\n",
       "True      3776\n",
       "Name: country, dtype: int64"
      ]
     },
     "execution_count": 83,
     "metadata": {},
     "output_type": "execute_result"
    }
   ],
   "source": [
    "# Check for NaN and null\n",
    "\n",
    "df['country'].isna().value_counts()"
   ]
  },
  {
   "cell_type": "code",
   "execution_count": 84,
   "metadata": {
    "scrolled": true
   },
   "outputs": [
    {
     "name": "stdout",
     "output_type": "stream",
     "text": [
      "<class 'pandas.core.frame.DataFrame'>\n",
      "RangeIndex: 35570 entries, 0 to 35569\n",
      "Data columns (total 12 columns):\n",
      " #   Column              Non-Null Count  Dtype  \n",
      "---  ------              --------------  -----  \n",
      " 0   day                 35570 non-null  int64  \n",
      " 1   month               35570 non-null  int64  \n",
      " 2   year                35570 non-null  int64  \n",
      " 3   date                35570 non-null  object \n",
      " 4   time                35570 non-null  object \n",
      " 5   city                35570 non-null  object \n",
      " 6   state               32775 non-null  object \n",
      " 7   country             31794 non-null  object \n",
      " 8   shape               35570 non-null  object \n",
      " 9   duration (seconds)  35570 non-null  float64\n",
      " 10  latitude            35570 non-null  float64\n",
      " 11  longitude           35570 non-null  float64\n",
      "dtypes: float64(3), int64(3), object(6)\n",
      "memory usage: 3.3+ MB\n"
     ]
    }
   ],
   "source": [
    "# change city column to string\n",
    "\n",
    "df['city'] = df['city'].astype('str')\n",
    "\n",
    "df.info()"
   ]
  },
  {
   "cell_type": "markdown",
   "metadata": {},
   "source": []
  },
  {
   "cell_type": "code",
   "execution_count": 85,
   "metadata": {},
   "outputs": [],
   "source": [
    "# get the country from city column - anything between brackets is a country\n",
    "\n",
    "df['city_country'] = df['city'].str.extract('.*\\((.*)\\).*')\n"
   ]
  },
  {
   "cell_type": "code",
   "execution_count": 86,
   "metadata": {},
   "outputs": [
    {
     "data": {
      "text/plain": [
       "float"
      ]
     },
     "execution_count": 86,
     "metadata": {},
     "output_type": "execute_result"
    }
   ],
   "source": [
    "# extraction leads to mixed types, nan are floats and countries are strings. Check.\n",
    "\n",
    "type(df['city_country'][0])"
   ]
  },
  {
   "cell_type": "code",
   "execution_count": 87,
   "metadata": {},
   "outputs": [
    {
     "data": {
      "text/plain": [
       "str"
      ]
     },
     "execution_count": 87,
     "metadata": {},
     "output_type": "execute_result"
    }
   ],
   "source": [
    "type(df['city_country'][2])"
   ]
  },
  {
   "cell_type": "code",
   "execution_count": 88,
   "metadata": {
    "scrolled": true
   },
   "outputs": [
    {
     "name": "stdout",
     "output_type": "stream",
     "text": [
      "<class 'pandas.core.frame.DataFrame'>\n",
      "RangeIndex: 35570 entries, 0 to 35569\n",
      "Data columns (total 13 columns):\n",
      " #   Column              Non-Null Count  Dtype  \n",
      "---  ------              --------------  -----  \n",
      " 0   day                 35570 non-null  int64  \n",
      " 1   month               35570 non-null  int64  \n",
      " 2   year                35570 non-null  int64  \n",
      " 3   date                35570 non-null  object \n",
      " 4   time                35570 non-null  object \n",
      " 5   city                35570 non-null  object \n",
      " 6   state               32775 non-null  object \n",
      " 7   country             31794 non-null  object \n",
      " 8   shape               35570 non-null  object \n",
      " 9   duration (seconds)  35570 non-null  float64\n",
      " 10  latitude            35570 non-null  float64\n",
      " 11  longitude           35570 non-null  float64\n",
      " 12  city_country        35570 non-null  object \n",
      "dtypes: float64(3), int64(3), object(7)\n",
      "memory usage: 3.5+ MB\n"
     ]
    }
   ],
   "source": [
    "# Make sure column is a string\n",
    "\n",
    "df['city_country'] = df['city_country'].astype('str')\n",
    "\n",
    "df.info()"
   ]
  },
  {
   "cell_type": "code",
   "execution_count": 89,
   "metadata": {
    "scrolled": true
   },
   "outputs": [
    {
     "data": {
      "text/plain": [
       "array(['nan', 'uk', 'canada', 'new zealand', 'russia', 'australia',\n",
       "       'italy', 'norway', 'denmark', 'iceland', 'puerto rico', 'austria',\n",
       "       'japan', 'peru', 'turkey', 'belgium', 'china', 'greece',\n",
       "       'malaysia', 'armenia', 'france', 'kendall', 'republic of ireland',\n",
       "       'india', 'thailand', 'hungary', 'germany', 'spain', 'philippines',\n",
       "       'venezuela', 'pakistan', 'iran', 'afghanistan', 'morocco',\n",
       "       'taiwan', 'israel', 'egypt', 'poland', 'south africa',\n",
       "       'costa rica', 'south korea', 'honduras', 'lithuania', 'sweden',\n",
       "       'netherlands', 'mexico', 'dominican republic', 'macedonia',\n",
       "       'argentina', 'jamaica', 'switzerland', 'bangladesh',\n",
       "       'czech republic', 'northern ireland', 'cyprus', 'greenland',\n",
       "       'belize', 'kuwait', 'romania', 'ukraine', 'bulgaria', 'slovakia',\n",
       "       'algeria', 'trinidad', 'iraq', 'finland', 'lebanon', 'sri lanka',\n",
       "       'bosnia', 'latvia', 'croatia', 'uzbekistan', 'ghana', 'brazil',\n",
       "       'vietnam', 'nepal', 'bolivia', 'bahrain', 'kenya', 'palestine',\n",
       "       'kosovo', 'virgin islands', 'portugal', 'jordan', 'saudi arabia',\n",
       "       'slovenia', 'barbados', 'uk/englnd', 'brasil', 'brunei', 'korea',\n",
       "       'chile', 'gambia', 'malta', 'maui', 'uae', 'luxemburg',\n",
       "       'azerbaijan', 'indonesia', 'bahamas', 'west of atlanta',\n",
       "       'yugoslavia', 'serbia', 'uk england', 'maldives', 'paraguay',\n",
       "       'palau', 'colombia', 'belarus', 'cuba', 'bermuda', 'ecuador',\n",
       "       'uruguay', 'nigeria', 'queensland australia', 'estonia', 'seattle',\n",
       "       'santa barbara county', 'orlando', 'guatamala', 'north wales',\n",
       "       'tanzania', 'luxembourg', 'panama', 'namibia', 'mauritius',\n",
       "       'guyana', 'uk/endland', 'west germany', 'zambia', 'cambodia',\n",
       "       'the bahamas', 'el salvador', 'tunisia', 'irving', 'syria',\n",
       "       'northern', 'queens', 'uk/birmingham', 'indian island', 'jennings',\n",
       "       'area', 'uganda', 'uk)', 'suburbs', 'san diego', 'guatemala',\n",
       "       'hebron', 'ethiopia', 'cameroon', 'various towns', 'albania'],\n",
       "      dtype=object)"
      ]
     },
     "execution_count": 89,
     "metadata": {},
     "output_type": "execute_result"
    }
   ],
   "source": [
    "# Check the different countries from the city_country column\n",
    "\n",
    "df['city_country'].unique()"
   ]
  },
  {
   "cell_type": "code",
   "execution_count": 90,
   "metadata": {},
   "outputs": [
    {
     "data": {
      "text/html": [
       "<div>\n",
       "<style scoped>\n",
       "    .dataframe tbody tr th:only-of-type {\n",
       "        vertical-align: middle;\n",
       "    }\n",
       "\n",
       "    .dataframe tbody tr th {\n",
       "        vertical-align: top;\n",
       "    }\n",
       "\n",
       "    .dataframe thead th {\n",
       "        text-align: right;\n",
       "    }\n",
       "</style>\n",
       "<table border=\"1\" class=\"dataframe\">\n",
       "  <thead>\n",
       "    <tr style=\"text-align: right;\">\n",
       "      <th></th>\n",
       "      <th>day</th>\n",
       "      <th>month</th>\n",
       "      <th>year</th>\n",
       "      <th>date</th>\n",
       "      <th>time</th>\n",
       "      <th>city</th>\n",
       "      <th>state</th>\n",
       "      <th>country</th>\n",
       "      <th>shape</th>\n",
       "      <th>duration (seconds)</th>\n",
       "      <th>latitude</th>\n",
       "      <th>longitude</th>\n",
       "      <th>city_country</th>\n",
       "    </tr>\n",
       "  </thead>\n",
       "  <tbody>\n",
       "    <tr>\n",
       "      <th>35565</th>\n",
       "      <td>4</td>\n",
       "      <td>21</td>\n",
       "      <td>2014</td>\n",
       "      <td>4/21/2014</td>\n",
       "      <td>21:45:00</td>\n",
       "      <td>port of spain (trinidad)</td>\n",
       "      <td>NaN</td>\n",
       "      <td>trinidad</td>\n",
       "      <td>unknown</td>\n",
       "      <td>2400.0</td>\n",
       "      <td>10.666667</td>\n",
       "      <td>-61.516667</td>\n",
       "      <td>trinidad</td>\n",
       "    </tr>\n",
       "    <tr>\n",
       "      <th>35566</th>\n",
       "      <td>4</td>\n",
       "      <td>21</td>\n",
       "      <td>2014</td>\n",
       "      <td>4/21/2014</td>\n",
       "      <td>22:00:00</td>\n",
       "      <td>north atlanta</td>\n",
       "      <td>ga</td>\n",
       "      <td>us</td>\n",
       "      <td>light</td>\n",
       "      <td>15.0</td>\n",
       "      <td>33.865000</td>\n",
       "      <td>-84.336667</td>\n",
       "      <td>nan</td>\n",
       "    </tr>\n",
       "    <tr>\n",
       "      <th>35567</th>\n",
       "      <td>4</td>\n",
       "      <td>21</td>\n",
       "      <td>2014</td>\n",
       "      <td>4/21/2014</td>\n",
       "      <td>22:15:00</td>\n",
       "      <td>quezon city (philippines)</td>\n",
       "      <td>NaN</td>\n",
       "      <td>philippines</td>\n",
       "      <td>light</td>\n",
       "      <td>3.0</td>\n",
       "      <td>14.676041</td>\n",
       "      <td>121.043700</td>\n",
       "      <td>philippines</td>\n",
       "    </tr>\n",
       "    <tr>\n",
       "      <th>35568</th>\n",
       "      <td>4</td>\n",
       "      <td>21</td>\n",
       "      <td>2014</td>\n",
       "      <td>4/21/2014</td>\n",
       "      <td>22:20:00</td>\n",
       "      <td>ozark</td>\n",
       "      <td>mo</td>\n",
       "      <td>us</td>\n",
       "      <td>triangle</td>\n",
       "      <td>120.0</td>\n",
       "      <td>37.020833</td>\n",
       "      <td>-93.205833</td>\n",
       "      <td>nan</td>\n",
       "    </tr>\n",
       "    <tr>\n",
       "      <th>35569</th>\n",
       "      <td>4</td>\n",
       "      <td>21</td>\n",
       "      <td>2014</td>\n",
       "      <td>4/21/2014</td>\n",
       "      <td>23:00:00</td>\n",
       "      <td>chesterfield</td>\n",
       "      <td>va</td>\n",
       "      <td>us</td>\n",
       "      <td>unknown</td>\n",
       "      <td>1800.0</td>\n",
       "      <td>37.376944</td>\n",
       "      <td>-77.506111</td>\n",
       "      <td>nan</td>\n",
       "    </tr>\n",
       "  </tbody>\n",
       "</table>\n",
       "</div>"
      ],
      "text/plain": [
       "       day  month  year       date      time                       city state  \\\n",
       "35565    4     21  2014  4/21/2014  21:45:00   port of spain (trinidad)   NaN   \n",
       "35566    4     21  2014  4/21/2014  22:00:00              north atlanta    ga   \n",
       "35567    4     21  2014  4/21/2014  22:15:00  quezon city (philippines)   NaN   \n",
       "35568    4     21  2014  4/21/2014  22:20:00                      ozark    mo   \n",
       "35569    4     21  2014  4/21/2014  23:00:00               chesterfield    va   \n",
       "\n",
       "           country     shape  duration (seconds)   latitude   longitude  \\\n",
       "35565     trinidad   unknown              2400.0  10.666667  -61.516667   \n",
       "35566           us     light                15.0  33.865000  -84.336667   \n",
       "35567  philippines     light                 3.0  14.676041  121.043700   \n",
       "35568           us  triangle               120.0  37.020833  -93.205833   \n",
       "35569           us   unknown              1800.0  37.376944  -77.506111   \n",
       "\n",
       "      city_country  \n",
       "35565     trinidad  \n",
       "35566          nan  \n",
       "35567  philippines  \n",
       "35568          nan  \n",
       "35569          nan  "
      ]
     },
     "execution_count": 90,
     "metadata": {},
     "output_type": "execute_result"
    }
   ],
   "source": [
    "# Infill nan with city_country column\n",
    "\n",
    "df.loc[df['country'].isnull(),'country'] = df['city_country']\n",
    "\n",
    "df.tail()"
   ]
  },
  {
   "cell_type": "code",
   "execution_count": 91,
   "metadata": {
    "scrolled": true
   },
   "outputs": [
    {
     "data": {
      "text/plain": [
       "array(['us', 'gb', 'be', 'ca', 'nz', 'ru', 'au', 'it', 'no', 'de', 'ic',\n",
       "       'ja', 'pe', 'vi', 'tu', 'ch', 'hk', 'gr', 'nan', 'malaysia',\n",
       "       'armenia', 'france', 'republic of ireland', 'india', 'canada',\n",
       "       'thailand', 'hungary', 'japan', 'new zealand', 'spain',\n",
       "       'philippines', 'uk', 'greece', 'venezuela', 'pakistan', 'iran',\n",
       "       'afghanistan', 'morocco', 'taiwan', 'australia', 'china', 'norway',\n",
       "       'israel', 'egypt', 'puerto rico', 'pol', 'south africa', 'belgium',\n",
       "       'iceland', 'costa rica', 'south korea', 'honduras', 'lithuania',\n",
       "       'sweden', 'italy', 'netherlands', 'mexico', 'dominican republic',\n",
       "       'macedonia', 'argentina', 'denmark', 'jamaica', 'switzerland',\n",
       "       'bangladesh', 'czech republic', 'northern ireland', 'cyprus',\n",
       "       'peru', 'greenland', 'belize', 'kuwait', 'romania', 'ukraine',\n",
       "       'bulgaria', 'slovakia', 'algeria', 'trinidad', 'iraq', 'finland',\n",
       "       'russia', 'lebanon', 'sri lanka', 'germany', 'bosnia', 'latvia',\n",
       "       'croatia', 'uzbekistan', 'ghana', 'brazil', 'austria', 'vietnam',\n",
       "       'nepal', 'bolivia', 'bahrain', 'kenya', 'palestine', 'kosovo',\n",
       "       'virgin islands', 'portugal', 'jordan', 'saudi arabia', 'turkey',\n",
       "       'slovenia', 'barbados', 'brasil', 'brunei', 'korea', 'chile',\n",
       "       'gambia', 'malta', 'uae', 'luxemburg', 'azerbaijan', 'indonesia',\n",
       "       'bahamas', 'yugoslavia', 'ar', 'sp', 'in', 'fr', 'sa', 'se', 'pu',\n",
       "       'ho', 'maldives', 'paraguay', 'palau', 'colombia', 'belarus',\n",
       "       'cuba', 'bermuda', 'ecuador', 'uruguay', 'nigeria', 'roi',\n",
       "       'estonia', 'serbia', 'ir', 'ne', 'tr', 'is', 'th', 'po', 'ma',\n",
       "       'sk', 'guatamala', 'tanzania', 'luxembourg', 'panama', 'na',\n",
       "       'poland', 'mauritius', 'guyana', 'zambia', 'cambodia',\n",
       "       'the bahamas', 'el salvador', 'tunisia', 's', 'syria', 'uganda',\n",
       "       'guatemala', 'ethiopia', 'cameroon', 'me', 'albania'], dtype=object)"
      ]
     },
     "execution_count": 91,
     "metadata": {},
     "output_type": "execute_result"
    }
   ],
   "source": [
    "# Check all values from 'country' and change names\n",
    "\n",
    "df['country'].unique()"
   ]
  },
  {
   "cell_type": "code",
   "execution_count": 92,
   "metadata": {},
   "outputs": [],
   "source": [
    "# Change acronyms to country\n",
    "\n",
    "df.loc[df['country'] == 'us', 'country'] = 'USA'\n",
    "df.loc[df['country'] == 'gb', 'country'] = 'UK'\n",
    "df.loc[df['country'] == 'ca', 'country'] = 'canada'\n",
    "df.loc[df['country'] == 'nz', 'country'] = 'new zealand'\n",
    "df.loc[df['country'] == 'ru', 'country'] = 'russia'\n",
    "df.loc[df['country'] == 'au', 'country'] = 'australia'\n",
    "df.loc[df['country'] == 'it', 'country'] = 'italy'\n",
    "df.loc[df['country'] == 'li', 'country'] = 'lithuania'\n",
    "df.loc[df['country'] == 'no', 'country'] = 'norway'\n",
    "df.loc[df['country'] == 'de', 'country'] = 'denmark'\n",
    "df.loc[df['country'] == 'ic', 'country'] = 'iceland'\n",
    "df.loc[df['country'] == 'me', 'country'] = 'mexico'\n",
    "df.loc[df['country'] == 'ja', 'country'] = 'japan'\n",
    "df.loc[df['country'] == 'pe', 'country'] = 'peru'\n",
    "df.loc[df['country'] == 'vi', 'country'] = 'vietnam'\n",
    "df.loc[df['country'] == 'tu', 'country'] = 'turkey'\n",
    "df.loc[df['country'] == 'ch', 'country'] = 'china'\n",
    "df.loc[df['country'] == 'hk', 'country'] = 'hong kong'\n",
    "df.loc[df['country'] == 'gr', 'country'] = 'greece'\n",
    "df.loc[df['country'] == 'sp', 'country'] = 'spain'\n",
    "df.loc[df['country'] == 'uae', 'country'] = 'uae'\n",
    "df.loc[df['country'] == 'fr', 'country'] = 'france'\n",
    "df.loc[df['country'] == 'ar', 'country'] = 'argentina'\n",
    "df.loc[df['country'] == 'in', 'country'] = 'india'\n",
    "df.loc[df['country'] == 'sa', 'country'] = 'south africa'\n",
    "df.loc[df['country'] == 'se', 'country'] = 'serbia'\n",
    "df.loc[df['country'] == 'pu', 'country'] = 'puerto rico'\n",
    "df.loc[df['country'] == 'ir', 'country'] = 'republic of ireland'\n",
    "df.loc[df['country'] == 'po', 'country'] = 'portugal'\n",
    "df.loc[df['country'] == 'pol', 'country'] = 'poland'\n",
    "df.loc[df['country'] == 'ne', 'country'] = 'netherlands'\n",
    "df.loc[df['country'] == 'tr', 'country'] = 'trinidad'\n",
    "df.loc[df['country'] == 'ne', 'country'] = 'netherlands'\n",
    "df.loc[df['country'] == 'is', 'country'] = 'israel'\n",
    "df.loc[df['country'] == 'th', 'country'] = 'thailand'\n",
    "df.loc[df['country'] == 'ma', 'country'] = 'malaysia'\n",
    "df.loc[df['country'] == 'sk', 'country'] = 'south korea'\n",
    "df.loc[df['country'] == 'ho', 'country'] = 'honduras'\n",
    "df.loc[df['country'] == 'roi', 'country'] = 'republic of ireland'\n",
    "df.loc[df['country'] == 'na', 'country'] = 'namibia'\n",
    "df.loc[df['country'] == 'ku', 'country'] = 'kuwait'\n",
    "df.loc[df['country'] == 'br', 'country'] = 'brazil'\n",
    "df.loc[df['country'] == 'be', 'country'] = 'belgium'\n",
    "df.loc[df['country'] == 'Nan', 'country'] = 'unknown'"
   ]
  },
  {
   "cell_type": "code",
   "execution_count": 93,
   "metadata": {
    "scrolled": true
   },
   "outputs": [
    {
     "data": {
      "text/plain": [
       "array(['Usa', 'Uk', 'Belgium', 'Canada', 'New zealand', 'Russia',\n",
       "       'Australia', 'Italy', 'Norway', 'Denmark', 'Iceland', 'Japan',\n",
       "       'Peru', 'Vietnam', 'Turkey', 'China', 'Hong kong', 'Greece', 'Nan',\n",
       "       'Malaysia', 'Armenia', 'France', 'Republic of ireland', 'India',\n",
       "       'Thailand', 'Hungary', 'Spain', 'Philippines', 'Venezuela',\n",
       "       'Pakistan', 'Iran', 'Afghanistan', 'Morocco', 'Taiwan', 'Israel',\n",
       "       'Egypt', 'Puerto rico', 'Poland', 'South africa', 'Costa rica',\n",
       "       'South korea', 'Honduras', 'Lithuania', 'Sweden', 'Netherlands',\n",
       "       'Mexico', 'Dominican republic', 'Macedonia', 'Argentina',\n",
       "       'Jamaica', 'Switzerland', 'Bangladesh', 'Czech republic',\n",
       "       'Northern ireland', 'Cyprus', 'Greenland', 'Belize', 'Kuwait',\n",
       "       'Romania', 'Ukraine', 'Bulgaria', 'Slovakia', 'Algeria',\n",
       "       'Trinidad', 'Iraq', 'Finland', 'Lebanon', 'Sri lanka', 'Germany',\n",
       "       'Bosnia', 'Latvia', 'Croatia', 'Uzbekistan', 'Ghana', 'Brazil',\n",
       "       'Austria', 'Nepal', 'Bolivia', 'Bahrain', 'Kenya', 'Palestine',\n",
       "       'Kosovo', 'Virgin islands', 'Portugal', 'Jordan', 'Saudi arabia',\n",
       "       'Slovenia', 'Barbados', 'Brasil', 'Brunei', 'Korea', 'Chile',\n",
       "       'Gambia', 'Malta', 'Uae', 'Luxemburg', 'Azerbaijan', 'Indonesia',\n",
       "       'Bahamas', 'Yugoslavia', 'Serbia', 'Maldives', 'Paraguay', 'Palau',\n",
       "       'Colombia', 'Belarus', 'Cuba', 'Bermuda', 'Ecuador', 'Uruguay',\n",
       "       'Nigeria', 'Estonia', 'Guatamala', 'Tanzania', 'Luxembourg',\n",
       "       'Panama', 'Namibia', 'Mauritius', 'Guyana', 'Zambia', 'Cambodia',\n",
       "       'The bahamas', 'El salvador', 'Tunisia', 'S', 'Syria', 'Uganda',\n",
       "       'Guatemala', 'Ethiopia', 'Cameroon', 'Albania'], dtype=object)"
      ]
     },
     "execution_count": 93,
     "metadata": {},
     "output_type": "execute_result"
    }
   ],
   "source": [
    "# capitalise each word\n",
    "\n",
    "df['country'] = df['country'].str.capitalize()\n",
    "\n",
    "# Check changes \n",
    "\n",
    "df['country'].unique()"
   ]
  },
  {
   "cell_type": "code",
   "execution_count": 94,
   "metadata": {},
   "outputs": [
    {
     "data": {
      "text/plain": [
       "Usa                    29551\n",
       "Nan                     2147\n",
       "Canada                  1254\n",
       "Uk                       972\n",
       "Australia                271\n",
       "India                    127\n",
       "Mexico                   123\n",
       "South africa              86\n",
       "New zealand               75\n",
       "Republic of ireland       58\n",
       "Name: country, dtype: int64"
      ]
     },
     "execution_count": 94,
     "metadata": {},
     "output_type": "execute_result"
    }
   ],
   "source": [
    "# create df for the 10 countries with the highest UFO sightings - there are too many countries to display them all. \n",
    "\n",
    "country = df['country'].value_counts().nlargest(10)\n",
    "\n",
    "country"
   ]
  },
  {
   "cell_type": "code",
   "execution_count": 95,
   "metadata": {
    "scrolled": true
   },
   "outputs": [
    {
     "data": {
      "image/png": "[encoded data removed]",
      "text/plain": [
       "<Figure size 1008x360 with 1 Axes>"
      ]
     },
     "metadata": {
      "needs_background": "light"
     },
     "output_type": "display_data"
    }
   ],
   "source": [
    "# Plot bar graph of the sightings by top 10 coutries\n",
    "fig, ax = plt.subplots(figsize=(14, 5))\n",
    "\n",
    "ax.bar(x = country.index, height = country, color = '#00FF00')\n",
    "plt.xticks(rotation='vertical')\n",
    "ax.set_xlabel('Country');\n",
    "ax.set_ylabel('Total Sightings')\n",
    "ax.set_title('Number of UFO Sightings for the top 10 Countries');\n"
   ]
  },
  {
   "cell_type": "markdown",
   "metadata": {},
   "source": [
    "- This graph suggests that extraterrestrial UFOs find the USA the most interesting country in the whole world, one worth repeatedly visiting for observation. Perhaps given the increased frequency of visits in recent years, they to were trying to understand the reasons for electing the Trump administration..."
   ]
  },
  {
   "cell_type": "markdown",
   "metadata": {},
   "source": [
    "### UFO Sightings across the USA"
   ]
  },
  {
   "cell_type": "code",
   "execution_count": 96,
   "metadata": {},
   "outputs": [
    {
     "data": {
      "text/plain": [
       "0"
      ]
     },
     "execution_count": 96,
     "metadata": {},
     "output_type": "execute_result"
    }
   ],
   "source": [
    "# check for nan\n",
    "\n",
    "df['latitude'].isnull().sum()"
   ]
  },
  {
   "cell_type": "code",
   "execution_count": 97,
   "metadata": {},
   "outputs": [
    {
     "data": {
      "text/plain": [
       "482"
      ]
     },
     "execution_count": 97,
     "metadata": {},
     "output_type": "execute_result"
    }
   ],
   "source": [
    "# check for 0\n",
    "\n",
    "(df['latitude']== 0).sum()"
   ]
  },
  {
   "cell_type": "code",
   "execution_count": 98,
   "metadata": {},
   "outputs": [
    {
     "data": {
      "text/plain": [
       "0"
      ]
     },
     "execution_count": 98,
     "metadata": {},
     "output_type": "execute_result"
    }
   ],
   "source": [
    "# Remove longitude and latitude without co-ordinates\n",
    "\n",
    "df = df[df['latitude'] != 0]\n",
    "\n",
    "# Check \n",
    "\n",
    "(df['latitude']== 0).sum()"
   ]
  },
  {
   "cell_type": "code",
   "execution_count": 99,
   "metadata": {},
   "outputs": [
    {
     "data": {
      "text/plain": [
       "array(['Usa'], dtype=object)"
      ]
     },
     "execution_count": 99,
     "metadata": {},
     "output_type": "execute_result"
    }
   ],
   "source": [
    "location = df[df['country'] == 'Usa']\n",
    "\n",
    "location['country'].unique()"
   ]
  },
  {
   "cell_type": "code",
   "execution_count": 114,
   "metadata": {
    "scrolled": false
   },
   "outputs": [
    {
     "data": {
      "image/png": "[encoded data removed]",
      "text/plain": [
       "<Figure size 864x720 with 1 Axes>"
      ]
     },
     "metadata": {
      "needs_background": "light"
     },
     "output_type": "display_data"
    }
   ],
   "source": [
    "# Plot the locations of the UFOs\n",
    "\n",
    "fig, ax = plt.subplots(figsize=(12, 10))\n",
    "\n",
    "ax.scatter(x=location['longitude'], y=location['latitude'],\n",
    "            c = '#00FF00',\n",
    "            alpha = 0.1,\n",
    "            s = 30,\n",
    "            marker = '^')\n",
    "\n",
    "ax.set_xlabel('lat')\n",
    "ax.set_ylabel('long')\n",
    "\n",
    "plt.tight_layout()"
   ]
  },
  {
   "cell_type": "markdown",
   "metadata": {},
   "source": [
    "- It appears the UFOs are not clustered in any single location, and the spreasd of the sightings are similar to the population density in the USA.  "
   ]
  },
  {
   "cell_type": "markdown",
   "metadata": {},
   "source": [
    "## Most common UFO shape seen in the USA"
   ]
  },
  {
   "cell_type": "code",
   "execution_count": 87,
   "metadata": {},
   "outputs": [
    {
     "data": {
      "text/plain": [
       "array(['cylinder', 'light', 'circle', 'sphere', 'disk', 'fireball',\n",
       "       'unknown', 'oval', 'other', 'cigar', 'rectangle', 'chevron',\n",
       "       'triangle', 'formation', 'delta', 'changing', 'egg', 'flash',\n",
       "       'diamond', 'teardrop', 'cone', 'cross', 'pyramid', 'round',\n",
       "       'crescent', 'flare', 'hexagon', 'dome'], dtype=object)"
      ]
     },
     "execution_count": 87,
     "metadata": {},
     "output_type": "execute_result"
    }
   ],
   "source": [
    "df['shape'].unique()"
   ]
  },
  {
   "cell_type": "code",
   "execution_count": null,
   "metadata": {},
   "outputs": [],
   "source": [
    "# Plot bar graph of the sightings by year and predict next decade\n",
    "\n",
    "fig, axs = plt.subplots(figsize=(12, 4)) \n",
    "\n",
    "axs.df['shape'].plot()"
   ]
  },
  {
   "cell_type": "code",
   "execution_count": null,
   "metadata": {},
   "outputs": [],
   "source": []
  }
 ],
 "metadata": {
  "kernelspec": {
   "display_name": "Python 3",
   "language": "python",
   "name": "python3"
  },
  "language_info": {
   "codemirror_mode": {
    "name": "ipython",
    "version": 3
   },
   "file_extension": ".py",
   "mimetype": "text/x-python",
   "name": "python",
   "nbconvert_exporter": "python",
   "pygments_lexer": "ipython3",
   "version": "3.8.5"
  }
 },
 "nbformat": 4,
 "nbformat_minor": 4
}
